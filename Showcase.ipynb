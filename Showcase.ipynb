{
 "cells": [
  {
   "cell_type": "markdown",
   "metadata": {},
   "source": [
    "# F10 Hackathon APIs Example Showcase"
   ]
  },
  {
   "cell_type": "code",
   "execution_count": 1,
   "metadata": {},
   "outputs": [],
   "source": [
    "import requests\n",
    "from collections import namedtuple\n",
    "import json"
   ]
  },
  {
   "cell_type": "code",
   "execution_count": 2,
   "metadata": {},
   "outputs": [],
   "source": [
    "BANK_API_1=\"https://f10-sg.cloud.tyk.io/core-bank-api-wgi-1\"\n",
    "AUTH={'Authorization': '5b514bf0fc2fd20001f4afec422132c21c8343ea91a8a2ae5e047b12'}"
   ]
  },
  {
   "cell_type": "code",
   "execution_count": 3,
   "metadata": {},
   "outputs": [],
   "source": [
    "BANK_API_1=\"http://localhost:9090\"\n",
    "AUTH={'Authorization': '5b514bf0fc2fd20001f4afec422132c21c8343ea91a8a2ae5e047b12'}"
   ]
  },
  {
   "cell_type": "markdown",
   "metadata": {},
   "source": [
    "## The Core Banking API "
   ]
  },
  {
   "cell_type": "code",
   "execution_count": 35,
   "metadata": {},
   "outputs": [],
   "source": [
    "class MyBanking:\n",
    "    \n",
    "    def __init__(self, base_url, token, my_name, my_bank_code):\n",
    "        self.base_url = base_url\n",
    "        self.token = token\n",
    "        self.my_name = my_name\n",
    "        self.my_bank_code = my_bank_code\n",
    "        self.accounts = { a.id: a for a in self.list_accounts() }\n",
    "        \n",
    "    def list_accounts(self, account_number = None ):\n",
    "        response = requests.get(\"{}/accounts\".format(self.base_url), headers=self.token)\n",
    "        return [namedtuple(\"Account\", a.keys())(*a.values()) for a in response.json()\n",
    "               if a['bank_code'] == self.my_bank_code and (account_number == None or a['account_number'] == account_number)]\n",
    "        \n",
    "    def create_account(self, account_number, currency, product_type):\n",
    "        a = {'id': account_number, 'bank_code': self.my_bank_code, 'account_number': account_number, 'name': self.my_name, 'currency': currency, 'product_type': product_type}\n",
    "        response = requests.post(\"{}/accounts\".format(self.base_url), headers=self.token, json=a)\n",
    "        named_tuple = namedtuple(\"Account\", a.keys())(*a.values())\n",
    "        self.accounts[account_number] = named_tuple\n",
    "        return named_tuple\n",
    "    \n",
    "    def get_balance(self, account_number):\n",
    "        b = requests.get(\"{}/accounts/{}/balance\".format(self.base_url, account_number), headers=self.token)\n",
    "        b = b.json()\n",
    "        return namedtuple(\"Balance\", b.keys())(*b.values())\n",
    "    \n",
    "    def auth_payment(self, amount, account, other_party_acct_no, other_party_bank_code, other_party_name, refid, comments):\n",
    "        tx = {\n",
    "          \"amount\": amount,\n",
    "          \"bank_code\": other_party_bank_code,\n",
    "          \"comments\": comments,\n",
    "          \"credit_account_number\": other_party_acct_no,\n",
    "          \"destination_currency\": \"USD\",\n",
    "          \"payee_name\": other_party_name,\n",
    "          \"reference_id\": refid,\n",
    "          \"source_currency\": \"USD\",\n",
    "          \"transfer_currency\": \"USD\",\n",
    "          \"transfer_type\": \"INSTANT\",\n",
    "          \"value_date\": \"2018-08-03\"\n",
    "        }\n",
    "        res = requests.post(\"{}/accounts/{}/transfer\".format(self.base_url, account), json=tx, headers=self.token)\n",
    "        return res.json()\n",
    "\n",
    "    def list_transactions(self, account_number):\n",
    "        return requests.get(\"{}/accounts/{}/transactions\".format(self.base_url, account_number), headers=self.token).json()"
   ]
  },
  {
   "cell_type": "markdown",
   "metadata": {},
   "source": [
    "## The Singapore National Bank is used to finance our challenge"
   ]
  },
  {
   "cell_type": "code",
   "execution_count": 5,
   "metadata": {},
   "outputs": [
    {
     "data": {
      "text/plain": [
       "Account(id='000-000-000', bank_code='SGNB', account_number='000-000-000', name='SGNB', currency='USD', product_type='FINANCING')"
      ]
     },
     "execution_count": 5,
     "metadata": {},
     "output_type": "execute_result"
    }
   ],
   "source": [
    "ACCT_F='000-000-000'\n",
    "cb_sgnb = MyBanking(BANK_API_1, AUTH, 'SGNB', 'SGNB')\n",
    "cb_sgnb.create_account(ACCT_F, 'USD', 'FINANCING')"
   ]
  },
  {
   "cell_type": "code",
   "execution_count": 6,
   "metadata": {},
   "outputs": [
    {
     "data": {
      "text/plain": [
       "Balance(id='000-000-000', bank_code='SGNB', account_number='000-000-000', name='SGNB', balance=9000000000, currency='USD', product_type='FINANCING')"
      ]
     },
     "execution_count": 6,
     "metadata": {},
     "output_type": "execute_result"
    }
   ],
   "source": [
    "cb_sgnb.get_balance(ACCT_F)"
   ]
  },
  {
   "cell_type": "markdown",
   "metadata": {},
   "source": [
    "You can see, that the magic product type 'FINANCING' created the inital amount that we all live from"
   ]
  },
  {
   "cell_type": "markdown",
   "metadata": {},
   "source": [
    "## Joe's private core banking accounts"
   ]
  },
  {
   "cell_type": "code",
   "execution_count": 7,
   "metadata": {},
   "outputs": [],
   "source": [
    "JOE_SAVINGS = '123-234-345'\n",
    "JOE_CHECK = '123-234-666'"
   ]
  },
  {
   "cell_type": "code",
   "execution_count": 25,
   "metadata": {},
   "outputs": [],
   "source": [
    "cb_joe = MyBanking(BANK_API_1, AUTH, 'Joe', 'HSBC')"
   ]
  },
  {
   "cell_type": "code",
   "execution_count": 9,
   "metadata": {},
   "outputs": [
    {
     "data": {
      "text/plain": [
       "Account(id='123-234-345', bank_code='HSBC', account_number='123-234-345', name='Joe', currency='USD', product_type='Saving')"
      ]
     },
     "execution_count": 9,
     "metadata": {},
     "output_type": "execute_result"
    }
   ],
   "source": [
    "cb_joe.create_account(JOE_SAVINGS, 'USD', 'Saving')"
   ]
  },
  {
   "cell_type": "code",
   "execution_count": 10,
   "metadata": {},
   "outputs": [
    {
     "data": {
      "text/plain": [
       "Account(id='123-234-666', bank_code='HSBC', account_number='123-234-666', name='Joe', currency='USD', product_type='Check')"
      ]
     },
     "execution_count": 10,
     "metadata": {},
     "output_type": "execute_result"
    }
   ],
   "source": [
    "cb_joe.create_account(JOE_CHECK, 'USD', 'Check')"
   ]
  },
  {
   "cell_type": "code",
   "execution_count": 11,
   "metadata": {},
   "outputs": [
    {
     "data": {
      "text/plain": [
       "[Account(id='123-234-345', bank_code='HSBC', account_number='123-234-345', name='Joe', currency='USD', product_type='Saving'),\n",
       " Account(id='123-234-666', bank_code='HSBC', account_number='123-234-666', name='Joe', currency='USD', product_type='Check')]"
      ]
     },
     "execution_count": 11,
     "metadata": {},
     "output_type": "execute_result"
    }
   ],
   "source": [
    "cb_joe.list_accounts()"
   ]
  },
  {
   "cell_type": "code",
   "execution_count": 12,
   "metadata": {},
   "outputs": [
    {
     "data": {
      "text/plain": [
       "(Balance(id='123-234-345', bank_code='HSBC', account_number='123-234-345', name='Joe', balance=0, currency='USD', product_type='Saving'),\n",
       " Balance(id='123-234-666', bank_code='HSBC', account_number='123-234-666', name='Joe', balance=0, currency='USD', product_type='Check'))"
      ]
     },
     "execution_count": 12,
     "metadata": {},
     "output_type": "execute_result"
    }
   ],
   "source": [
    "cb_joe.get_balance(JOE_SAVINGS), cb_joe.get_balance(JOE_CHECK)"
   ]
  },
  {
   "cell_type": "markdown",
   "metadata": {},
   "source": [
    "#### Joe is financed by the Singapore National Bank"
   ]
  },
  {
   "cell_type": "code",
   "execution_count": 13,
   "metadata": {},
   "outputs": [
    {
     "data": {
      "text/plain": [
       "{'comment': 'Fund Transfer was Successfully processed',\n",
       " 'reference_id': '5b652d49fdf7e90b6c2a304f-5b652d49fdf7e90b6c2a3050',\n",
       " 'status': 'ACCEPTED'}"
      ]
     },
     "execution_count": 13,
     "metadata": {},
     "output_type": "execute_result"
    }
   ],
   "source": [
    "cb_sgnb.auth_payment(90000, ACCT_F, JOE_SAVINGS, 'HSBC', 'Joe', '0007601280223', 'initial financing')\n",
    "cb_sgnb.auth_payment(9000, ACCT_F, JOE_CHECK, 'HSBC', 'Joe', '0007601280224', 'initial financing')"
   ]
  },
  {
   "cell_type": "code",
   "execution_count": 15,
   "metadata": {},
   "outputs": [
    {
     "data": {
      "text/plain": [
       "(Balance(id='123-234-345', bank_code='HSBC', account_number='123-234-345', name='Joe', balance=90000, currency='USD', product_type='Saving'),\n",
       " Balance(id='123-234-666', bank_code='HSBC', account_number='123-234-666', name='Joe', balance=9000, currency='USD', product_type='Check'))"
      ]
     },
     "execution_count": 15,
     "metadata": {},
     "output_type": "execute_result"
    }
   ],
   "source": [
    "cb_joe.get_balance(JOE_SAVINGS), cb_joe.get_balance(JOE_CHECK)"
   ]
  },
  {
   "cell_type": "code",
   "execution_count": 21,
   "metadata": {},
   "outputs": [
    {
     "data": {
      "text/plain": [
       "{'data': [{'account_id': '123-234-345',\n",
       "   'amount': 90000,\n",
       "   'booking_date_time': '2018-08-04T06:36:24.985',\n",
       "   'credit_debit_indicator': 'Credit',\n",
       "   'currency': 'USD',\n",
       "   'id': '5b652d48fdf7e90b6c2a304e',\n",
       "   'transaction_code': 'Fund Transfer',\n",
       "   'transaction_reference': '000-000-000',\n",
       "   'value_date_time': '2018-08-04T06:36:24.985'}]}"
      ]
     },
     "execution_count": 21,
     "metadata": {},
     "output_type": "execute_result"
    }
   ],
   "source": [
    "cb_joe.list_transactions(JOE_SAVINGS)"
   ]
  },
  {
   "cell_type": "markdown",
   "metadata": {},
   "source": [
    "# Singapore Credit Default Insurance Ltd. "
   ]
  },
  {
   "cell_type": "code",
   "execution_count": 22,
   "metadata": {},
   "outputs": [],
   "source": [
    "SCDI_FEES = '111-234-345'\n",
    "SCDI_CLAIMS = '111-234-666'"
   ]
  },
  {
   "cell_type": "code",
   "execution_count": 24,
   "metadata": {},
   "outputs": [],
   "source": [
    "cb_scdi = MyBanking(BANK_API_1, AUTH, 'SCDI', 'BJB')"
   ]
  },
  {
   "cell_type": "code",
   "execution_count": 31,
   "metadata": {},
   "outputs": [
    {
     "data": {
      "text/plain": [
       "Account(id='111-234-345', bank_code='BJB', account_number='111-234-345', name='SCDI', currency='USD', product_type='Fees')"
      ]
     },
     "execution_count": 31,
     "metadata": {},
     "output_type": "execute_result"
    }
   ],
   "source": [
    "cb_scdi.create_account(SCDI_CLAIMS, 'USD', 'Claims')\n",
    "cb_scdi.create_account(SCDI_FEES, 'USD', 'Fees')"
   ]
  },
  {
   "cell_type": "code",
   "execution_count": 32,
   "metadata": {},
   "outputs": [
    {
     "data": {
      "text/plain": [
       "{'comment': 'Fund Transfer was Successfully processed',\n",
       " 'reference_id': '5b6531c9fdf7e90b6c2a3055-5b6531c9fdf7e90b6c2a3056',\n",
       " 'status': 'ACCEPTED'}"
      ]
     },
     "execution_count": 32,
     "metadata": {},
     "output_type": "execute_result"
    }
   ],
   "source": [
    "cb_sgnb.auth_payment(90000000, ACCT_F, SCDI_CLAIMS, 'BJB', 'SCDI', '0007601280225', 'initial financing')\n",
    "cb_sgnb.auth_payment(9000, ACCT_F, SCDI_FEES, 'BJB', 'SCDI', '0007601280226', 'initial financing')"
   ]
  },
  {
   "cell_type": "code",
   "execution_count": 33,
   "metadata": {},
   "outputs": [
    {
     "data": {
      "text/plain": [
       "(Balance(id='111-234-666', bank_code='BJB', account_number='111-234-666', name='SCDI', balance=90000000, currency='USD', product_type='Claims'),\n",
       " Balance(id='111-234-345', bank_code='BJB', account_number='111-234-345', name='SCDI', balance=9000, currency='USD', product_type='Fees'))"
      ]
     },
     "execution_count": 33,
     "metadata": {},
     "output_type": "execute_result"
    }
   ],
   "source": [
    "cb_scdi.get_balance(SCDI_CLAIMS), cb_scdi.get_balance(SCDI_FEES)"
   ]
  },
  {
   "cell_type": "code",
   "execution_count": null,
   "metadata": {},
   "outputs": [],
   "source": []
  }
 ],
 "metadata": {
  "kernelspec": {
   "display_name": "Python 3",
   "language": "python",
   "name": "python3"
  },
  "language_info": {
   "codemirror_mode": {
    "name": "ipython",
    "version": 3
   },
   "file_extension": ".py",
   "mimetype": "text/x-python",
   "name": "python",
   "nbconvert_exporter": "python",
   "pygments_lexer": "ipython3",
   "version": "3.6.4"
  }
 },
 "nbformat": 4,
 "nbformat_minor": 2
}
